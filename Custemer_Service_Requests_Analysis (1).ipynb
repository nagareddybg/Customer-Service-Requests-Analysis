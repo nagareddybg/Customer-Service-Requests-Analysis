{
 "cells": [
  {
   "cell_type": "markdown",
   "id": "d12d8e76",
   "metadata": {},
   "source": [
    "# Customer Service Requests Analysis\n",
    "\n",
    "DATASET : 311_Service_Requests_from_2010_to_Present\n",
    "\n",
    "\n",
    "Solutions\n"
   ]
  },
  {
   "cell_type": "markdown",
   "id": "481fe00d",
   "metadata": {},
   "source": [
    "1. Import a 311 NYC service request."
   ]
  },
  {
   "cell_type": "code",
   "execution_count": 8,
   "id": "fb2cb97f",
   "metadata": {},
   "outputs": [],
   "source": [
    "# importing required libraries\n",
    "\n",
    "import numpy as np\n",
    "import pandas as pd\n",
    "import matplotlib.pyplot as plt\n",
    "from matplotlib import style\n",
    "%matplotlib inline\n",
    "import seaborn as sns\n",
    "import datetime"
   ]
  },
  {
   "cell_type": "code",
   "execution_count": 9,
   "id": "8957995b",
   "metadata": {},
   "outputs": [],
   "source": [
    "from scipy.stats import chi2_contingency\n",
    "from scipy.stats import chi2"
   ]
  },
  {
   "cell_type": "code",
   "execution_count": 5,
   "id": "407192de",
   "metadata": {},
   "outputs": [
    {
     "name": "stderr",
     "output_type": "stream",
     "text": [
      "C:\\ProgramData\\Anaconda3\\lib\\site-packages\\IPython\\core\\interactiveshell.py:3165: DtypeWarning: Columns (48,49) have mixed types.Specify dtype option on import or set low_memory=False.\n",
      "  has_raised = await self.run_ast_nodes(code_ast.body, cell_name,\n"
     ]
    }
   ],
   "source": [
    "# reading the dataset (datacsra-Custemer_Service_Requests_Analysis)\n",
    "datacsra= pd.read_csv('C:\\\\SimpliLearn\\\\2. Data science with Python\\\\Customer Service Requests Analysis\\\\311_Service_Requests_from_2010_to_Present.csv')"
   ]
  },
  {
   "cell_type": "code",
   "execution_count": 11,
   "id": "30bf5b44",
   "metadata": {},
   "outputs": [
    {
     "data": {
      "text/html": [
       "<div>\n",
       "<style scoped>\n",
       "    .dataframe tbody tr th:only-of-type {\n",
       "        vertical-align: middle;\n",
       "    }\n",
       "\n",
       "    .dataframe tbody tr th {\n",
       "        vertical-align: top;\n",
       "    }\n",
       "\n",
       "    .dataframe thead th {\n",
       "        text-align: right;\n",
       "    }\n",
       "</style>\n",
       "<table border=\"1\" class=\"dataframe\">\n",
       "  <thead>\n",
       "    <tr style=\"text-align: right;\">\n",
       "      <th></th>\n",
       "      <th>Unique Key</th>\n",
       "      <th>Created Date</th>\n",
       "      <th>Closed Date</th>\n",
       "      <th>Agency</th>\n",
       "      <th>Agency Name</th>\n",
       "      <th>Complaint Type</th>\n",
       "      <th>Descriptor</th>\n",
       "      <th>Location Type</th>\n",
       "      <th>Incident Zip</th>\n",
       "      <th>Incident Address</th>\n",
       "      <th>...</th>\n",
       "      <th>Bridge Highway Name</th>\n",
       "      <th>Bridge Highway Direction</th>\n",
       "      <th>Road Ramp</th>\n",
       "      <th>Bridge Highway Segment</th>\n",
       "      <th>Garage Lot Name</th>\n",
       "      <th>Ferry Direction</th>\n",
       "      <th>Ferry Terminal Name</th>\n",
       "      <th>Latitude</th>\n",
       "      <th>Longitude</th>\n",
       "      <th>Location</th>\n",
       "    </tr>\n",
       "  </thead>\n",
       "  <tbody>\n",
       "    <tr>\n",
       "      <th>0</th>\n",
       "      <td>32310363</td>\n",
       "      <td>12/31/2015 11:59:45 PM</td>\n",
       "      <td>01-01-16 0:55</td>\n",
       "      <td>NYPD</td>\n",
       "      <td>New York City Police Department</td>\n",
       "      <td>Noise - Street/Sidewalk</td>\n",
       "      <td>Loud Music/Party</td>\n",
       "      <td>Street/Sidewalk</td>\n",
       "      <td>10034.0</td>\n",
       "      <td>71 VERMILYEA AVENUE</td>\n",
       "      <td>...</td>\n",
       "      <td>NaN</td>\n",
       "      <td>NaN</td>\n",
       "      <td>NaN</td>\n",
       "      <td>NaN</td>\n",
       "      <td>NaN</td>\n",
       "      <td>NaN</td>\n",
       "      <td>NaN</td>\n",
       "      <td>40.865682</td>\n",
       "      <td>-73.923501</td>\n",
       "      <td>(40.86568153633767, -73.92350095571744)</td>\n",
       "    </tr>\n",
       "    <tr>\n",
       "      <th>1</th>\n",
       "      <td>32309934</td>\n",
       "      <td>12/31/2015 11:59:44 PM</td>\n",
       "      <td>01-01-16 1:26</td>\n",
       "      <td>NYPD</td>\n",
       "      <td>New York City Police Department</td>\n",
       "      <td>Blocked Driveway</td>\n",
       "      <td>No Access</td>\n",
       "      <td>Street/Sidewalk</td>\n",
       "      <td>11105.0</td>\n",
       "      <td>27-07 23 AVENUE</td>\n",
       "      <td>...</td>\n",
       "      <td>NaN</td>\n",
       "      <td>NaN</td>\n",
       "      <td>NaN</td>\n",
       "      <td>NaN</td>\n",
       "      <td>NaN</td>\n",
       "      <td>NaN</td>\n",
       "      <td>NaN</td>\n",
       "      <td>40.775945</td>\n",
       "      <td>-73.915094</td>\n",
       "      <td>(40.775945312321085, -73.91509393898605)</td>\n",
       "    </tr>\n",
       "    <tr>\n",
       "      <th>2</th>\n",
       "      <td>32309159</td>\n",
       "      <td>12/31/2015 11:59:29 PM</td>\n",
       "      <td>01-01-16 4:51</td>\n",
       "      <td>NYPD</td>\n",
       "      <td>New York City Police Department</td>\n",
       "      <td>Blocked Driveway</td>\n",
       "      <td>No Access</td>\n",
       "      <td>Street/Sidewalk</td>\n",
       "      <td>10458.0</td>\n",
       "      <td>2897 VALENTINE AVENUE</td>\n",
       "      <td>...</td>\n",
       "      <td>NaN</td>\n",
       "      <td>NaN</td>\n",
       "      <td>NaN</td>\n",
       "      <td>NaN</td>\n",
       "      <td>NaN</td>\n",
       "      <td>NaN</td>\n",
       "      <td>NaN</td>\n",
       "      <td>40.870325</td>\n",
       "      <td>-73.888525</td>\n",
       "      <td>(40.870324522111424, -73.88852464418646)</td>\n",
       "    </tr>\n",
       "    <tr>\n",
       "      <th>3</th>\n",
       "      <td>32305098</td>\n",
       "      <td>12/31/2015 11:57:46 PM</td>\n",
       "      <td>01-01-16 7:43</td>\n",
       "      <td>NYPD</td>\n",
       "      <td>New York City Police Department</td>\n",
       "      <td>Illegal Parking</td>\n",
       "      <td>Commercial Overnight Parking</td>\n",
       "      <td>Street/Sidewalk</td>\n",
       "      <td>10461.0</td>\n",
       "      <td>2940 BAISLEY AVENUE</td>\n",
       "      <td>...</td>\n",
       "      <td>NaN</td>\n",
       "      <td>NaN</td>\n",
       "      <td>NaN</td>\n",
       "      <td>NaN</td>\n",
       "      <td>NaN</td>\n",
       "      <td>NaN</td>\n",
       "      <td>NaN</td>\n",
       "      <td>40.835994</td>\n",
       "      <td>-73.828379</td>\n",
       "      <td>(40.83599404683083, -73.82837939584206)</td>\n",
       "    </tr>\n",
       "    <tr>\n",
       "      <th>4</th>\n",
       "      <td>32306529</td>\n",
       "      <td>12/31/2015 11:56:58 PM</td>\n",
       "      <td>01-01-16 3:24</td>\n",
       "      <td>NYPD</td>\n",
       "      <td>New York City Police Department</td>\n",
       "      <td>Illegal Parking</td>\n",
       "      <td>Blocked Sidewalk</td>\n",
       "      <td>Street/Sidewalk</td>\n",
       "      <td>11373.0</td>\n",
       "      <td>87-14 57 ROAD</td>\n",
       "      <td>...</td>\n",
       "      <td>NaN</td>\n",
       "      <td>NaN</td>\n",
       "      <td>NaN</td>\n",
       "      <td>NaN</td>\n",
       "      <td>NaN</td>\n",
       "      <td>NaN</td>\n",
       "      <td>NaN</td>\n",
       "      <td>40.733060</td>\n",
       "      <td>-73.874170</td>\n",
       "      <td>(40.733059618956815, -73.87416975810375)</td>\n",
       "    </tr>\n",
       "  </tbody>\n",
       "</table>\n",
       "<p>5 rows × 53 columns</p>\n",
       "</div>"
      ],
      "text/plain": [
       "   Unique Key            Created Date    Closed Date Agency  \\\n",
       "0    32310363  12/31/2015 11:59:45 PM  01-01-16 0:55   NYPD   \n",
       "1    32309934  12/31/2015 11:59:44 PM  01-01-16 1:26   NYPD   \n",
       "2    32309159  12/31/2015 11:59:29 PM  01-01-16 4:51   NYPD   \n",
       "3    32305098  12/31/2015 11:57:46 PM  01-01-16 7:43   NYPD   \n",
       "4    32306529  12/31/2015 11:56:58 PM  01-01-16 3:24   NYPD   \n",
       "\n",
       "                       Agency Name           Complaint Type  \\\n",
       "0  New York City Police Department  Noise - Street/Sidewalk   \n",
       "1  New York City Police Department         Blocked Driveway   \n",
       "2  New York City Police Department         Blocked Driveway   \n",
       "3  New York City Police Department          Illegal Parking   \n",
       "4  New York City Police Department          Illegal Parking   \n",
       "\n",
       "                     Descriptor    Location Type  Incident Zip  \\\n",
       "0              Loud Music/Party  Street/Sidewalk       10034.0   \n",
       "1                     No Access  Street/Sidewalk       11105.0   \n",
       "2                     No Access  Street/Sidewalk       10458.0   \n",
       "3  Commercial Overnight Parking  Street/Sidewalk       10461.0   \n",
       "4              Blocked Sidewalk  Street/Sidewalk       11373.0   \n",
       "\n",
       "        Incident Address  ... Bridge Highway Name Bridge Highway Direction  \\\n",
       "0    71 VERMILYEA AVENUE  ...                 NaN                      NaN   \n",
       "1        27-07 23 AVENUE  ...                 NaN                      NaN   \n",
       "2  2897 VALENTINE AVENUE  ...                 NaN                      NaN   \n",
       "3    2940 BAISLEY AVENUE  ...                 NaN                      NaN   \n",
       "4          87-14 57 ROAD  ...                 NaN                      NaN   \n",
       "\n",
       "  Road Ramp Bridge Highway Segment Garage Lot Name Ferry Direction  \\\n",
       "0       NaN                    NaN             NaN             NaN   \n",
       "1       NaN                    NaN             NaN             NaN   \n",
       "2       NaN                    NaN             NaN             NaN   \n",
       "3       NaN                    NaN             NaN             NaN   \n",
       "4       NaN                    NaN             NaN             NaN   \n",
       "\n",
       "  Ferry Terminal Name   Latitude  Longitude  \\\n",
       "0                 NaN  40.865682 -73.923501   \n",
       "1                 NaN  40.775945 -73.915094   \n",
       "2                 NaN  40.870325 -73.888525   \n",
       "3                 NaN  40.835994 -73.828379   \n",
       "4                 NaN  40.733060 -73.874170   \n",
       "\n",
       "                                   Location  \n",
       "0   (40.86568153633767, -73.92350095571744)  \n",
       "1  (40.775945312321085, -73.91509393898605)  \n",
       "2  (40.870324522111424, -73.88852464418646)  \n",
       "3   (40.83599404683083, -73.82837939584206)  \n",
       "4  (40.733059618956815, -73.87416975810375)  \n",
       "\n",
       "[5 rows x 53 columns]"
      ]
     },
     "execution_count": 11,
     "metadata": {},
     "output_type": "execute_result"
    }
   ],
   "source": [
    "# View the top 5 elements of the dataset\n",
    "datacsra.head()"
   ]
  },
  {
   "cell_type": "code",
   "execution_count": 15,
   "id": "bd94c5e2",
   "metadata": {},
   "outputs": [
    {
     "data": {
      "text/plain": [
       "15936994"
      ]
     },
     "execution_count": 15,
     "metadata": {},
     "output_type": "execute_result"
    }
   ],
   "source": [
    "# size of the dataset\n",
    "datacsra.size"
   ]
  },
  {
   "cell_type": "code",
   "execution_count": 14,
   "id": "854bfe45",
   "metadata": {},
   "outputs": [
    {
     "data": {
      "text/plain": [
       "(300698, 53)"
      ]
     },
     "execution_count": 14,
     "metadata": {},
     "output_type": "execute_result"
    }
   ],
   "source": [
    "# shape of the dataset\n",
    "datacsra.shape"
   ]
  },
  {
   "cell_type": "code",
   "execution_count": 16,
   "id": "1c67028a",
   "metadata": {},
   "outputs": [
    {
     "name": "stdout",
     "output_type": "stream",
     "text": [
      "<class 'pandas.core.frame.DataFrame'>\n",
      "RangeIndex: 300698 entries, 0 to 300697\n",
      "Data columns (total 53 columns):\n",
      " #   Column                          Non-Null Count   Dtype  \n",
      "---  ------                          --------------   -----  \n",
      " 0   Unique Key                      300698 non-null  int64  \n",
      " 1   Created Date                    300698 non-null  object \n",
      " 2   Closed Date                     298534 non-null  object \n",
      " 3   Agency                          300698 non-null  object \n",
      " 4   Agency Name                     300698 non-null  object \n",
      " 5   Complaint Type                  300698 non-null  object \n",
      " 6   Descriptor                      294784 non-null  object \n",
      " 7   Location Type                   300567 non-null  object \n",
      " 8   Incident Zip                    298083 non-null  float64\n",
      " 9   Incident Address                256288 non-null  object \n",
      " 10  Street Name                     256288 non-null  object \n",
      " 11  Cross Street 1                  251419 non-null  object \n",
      " 12  Cross Street 2                  250919 non-null  object \n",
      " 13  Intersection Street 1           43858 non-null   object \n",
      " 14  Intersection Street 2           43362 non-null   object \n",
      " 15  Address Type                    297883 non-null  object \n",
      " 16  City                            298084 non-null  object \n",
      " 17  Landmark                        349 non-null     object \n",
      " 18  Facility Type                   298527 non-null  object \n",
      " 19  Status                          300698 non-null  object \n",
      " 20  Due Date                        300695 non-null  object \n",
      " 21  Resolution Description          300698 non-null  object \n",
      " 22  Resolution Action Updated Date  298511 non-null  object \n",
      " 23  Community Board                 300698 non-null  object \n",
      " 24  Borough                         300698 non-null  object \n",
      " 25  X Coordinate (State Plane)      297158 non-null  float64\n",
      " 26  Y Coordinate (State Plane)      297158 non-null  float64\n",
      " 27  Park Facility Name              300698 non-null  object \n",
      " 28  Park Borough                    300698 non-null  object \n",
      " 29  School Name                     300698 non-null  object \n",
      " 30  School Number                   300698 non-null  object \n",
      " 31  School Region                   300697 non-null  object \n",
      " 32  School Code                     300697 non-null  object \n",
      " 33  School Phone Number             300698 non-null  object \n",
      " 34  School Address                  300698 non-null  object \n",
      " 35  School City                     300698 non-null  object \n",
      " 36  School State                    300698 non-null  object \n",
      " 37  School Zip                      300697 non-null  object \n",
      " 38  School Not Found                300698 non-null  object \n",
      " 39  School or Citywide Complaint    0 non-null       float64\n",
      " 40  Vehicle Type                    0 non-null       float64\n",
      " 41  Taxi Company Borough            0 non-null       float64\n",
      " 42  Taxi Pick Up Location           0 non-null       float64\n",
      " 43  Bridge Highway Name             243 non-null     object \n",
      " 44  Bridge Highway Direction        243 non-null     object \n",
      " 45  Road Ramp                       213 non-null     object \n",
      " 46  Bridge Highway Segment          213 non-null     object \n",
      " 47  Garage Lot Name                 0 non-null       float64\n",
      " 48  Ferry Direction                 1 non-null       object \n",
      " 49  Ferry Terminal Name             2 non-null       object \n",
      " 50  Latitude                        297158 non-null  float64\n",
      " 51  Longitude                       297158 non-null  float64\n",
      " 52  Location                        297158 non-null  object \n",
      "dtypes: float64(10), int64(1), object(42)\n",
      "memory usage: 121.6+ MB\n"
     ]
    }
   ],
   "source": [
    "# information of the dataset\n",
    "datacsra.info()"
   ]
  },
  {
   "cell_type": "code",
   "execution_count": 17,
   "id": "137eeeb2",
   "metadata": {},
   "outputs": [
    {
     "data": {
      "text/plain": [
       "Index(['Unique Key', 'Created Date', 'Closed Date', 'Agency', 'Agency Name',\n",
       "       'Complaint Type', 'Descriptor', 'Location Type', 'Incident Zip',\n",
       "       'Incident Address', 'Street Name', 'Cross Street 1', 'Cross Street 2',\n",
       "       'Intersection Street 1', 'Intersection Street 2', 'Address Type',\n",
       "       'City', 'Landmark', 'Facility Type', 'Status', 'Due Date',\n",
       "       'Resolution Description', 'Resolution Action Updated Date',\n",
       "       'Community Board', 'Borough', 'X Coordinate (State Plane)',\n",
       "       'Y Coordinate (State Plane)', 'Park Facility Name', 'Park Borough',\n",
       "       'School Name', 'School Number', 'School Region', 'School Code',\n",
       "       'School Phone Number', 'School Address', 'School City', 'School State',\n",
       "       'School Zip', 'School Not Found', 'School or Citywide Complaint',\n",
       "       'Vehicle Type', 'Taxi Company Borough', 'Taxi Pick Up Location',\n",
       "       'Bridge Highway Name', 'Bridge Highway Direction', 'Road Ramp',\n",
       "       'Bridge Highway Segment', 'Garage Lot Name', 'Ferry Direction',\n",
       "       'Ferry Terminal Name', 'Latitude', 'Longitude', 'Location'],\n",
       "      dtype='object')"
      ]
     },
     "execution_count": 17,
     "metadata": {},
     "output_type": "execute_result"
    }
   ],
   "source": [
    "# columns names\n",
    "datacsra.columns"
   ]
  },
  {
   "cell_type": "markdown",
   "id": "5a76a44f",
   "metadata": {},
   "source": [
    "Columns having null values are dropped/ Dropping of unnecesary column"
   ]
  },
  {
   "cell_type": "code",
   "execution_count": 18,
   "id": "80b3661b",
   "metadata": {},
   "outputs": [],
   "source": [
    "# Columns names to be dropped\n",
    "\n",
    "drop_columns=['Agency Name','Incident Address','Street Name','Cross Street 1','Cross Street 2','Intersection Street 1',\n",
    "'Intersection Street 2','Address Type','Park Facility Name','Park Borough','School Name',\n",
    "'School Number','School Region','School Code','School Phone Number','School Address','School City',\n",
    "'School State','School Zip','School Not Found','School or Citywide Complaint','Vehicle Type',\n",
    "'Taxi Company Borough','Taxi Pick Up Location','Bridge Highway Name','Bridge Highway Direction',\n",
    "'Road Ramp','Bridge Highway Segment','Garage Lot Name','Ferry Direction','Ferry Terminal Name','Landmark',\n",
    "'X Coordinate (State Plane)','Y Coordinate (State Plane)','Due Date','Resolution Action Updated Date','Community Board','Facility Type',\n",
    "'Location']"
   ]
  },
  {
   "cell_type": "code",
   "execution_count": 19,
   "id": "10bd573b",
   "metadata": {},
   "outputs": [],
   "source": [
    "# Columns having null values are dropped\n",
    "\n",
    "datacsra = datacsra.drop(drop_columns, axis=1)"
   ]
  },
  {
   "cell_type": "code",
   "execution_count": 20,
   "id": "e1e21bb1",
   "metadata": {},
   "outputs": [
    {
     "data": {
      "text/plain": [
       "4209772"
      ]
     },
     "execution_count": 20,
     "metadata": {},
     "output_type": "execute_result"
    }
   ],
   "source": [
    "# size of the dataset after dropping column\n",
    "datacsra.size"
   ]
  },
  {
   "cell_type": "code",
   "execution_count": 21,
   "id": "a22f628d",
   "metadata": {},
   "outputs": [
    {
     "data": {
      "text/plain": [
       "(300698, 14)"
      ]
     },
     "execution_count": 21,
     "metadata": {},
     "output_type": "execute_result"
    }
   ],
   "source": [
    "#shape of the dataset after dropping column\n",
    "datacsra.shape"
   ]
  },
  {
   "cell_type": "markdown",
   "id": "6dbeb463",
   "metadata": {},
   "source": [
    "    Columns are reduced from 53 to 14"
   ]
  },
  {
   "cell_type": "code",
   "execution_count": 22,
   "id": "4f8e513b",
   "metadata": {},
   "outputs": [
    {
     "name": "stdout",
     "output_type": "stream",
     "text": [
      "<class 'pandas.core.frame.DataFrame'>\n",
      "RangeIndex: 300698 entries, 0 to 300697\n",
      "Data columns (total 14 columns):\n",
      " #   Column                  Non-Null Count   Dtype  \n",
      "---  ------                  --------------   -----  \n",
      " 0   Unique Key              300698 non-null  int64  \n",
      " 1   Created Date            300698 non-null  object \n",
      " 2   Closed Date             298534 non-null  object \n",
      " 3   Agency                  300698 non-null  object \n",
      " 4   Complaint Type          300698 non-null  object \n",
      " 5   Descriptor              294784 non-null  object \n",
      " 6   Location Type           300567 non-null  object \n",
      " 7   Incident Zip            298083 non-null  float64\n",
      " 8   City                    298084 non-null  object \n",
      " 9   Status                  300698 non-null  object \n",
      " 10  Resolution Description  300698 non-null  object \n",
      " 11  Borough                 300698 non-null  object \n",
      " 12  Latitude                297158 non-null  float64\n",
      " 13  Longitude               297158 non-null  float64\n",
      "dtypes: float64(3), int64(1), object(10)\n",
      "memory usage: 32.1+ MB\n"
     ]
    }
   ],
   "source": [
    "# information of dataset after dropping column\n",
    "datacsra.info()"
   ]
  },
  {
   "cell_type": "code",
   "execution_count": 23,
   "id": "e47b679d",
   "metadata": {},
   "outputs": [
    {
     "data": {
      "text/plain": [
       "Unique Key                   0\n",
       "Created Date                 0\n",
       "Closed Date               2164\n",
       "Agency                       0\n",
       "Complaint Type               0\n",
       "Descriptor                5914\n",
       "Location Type              131\n",
       "Incident Zip              2615\n",
       "City                      2614\n",
       "Status                       0\n",
       "Resolution Description       0\n",
       "Borough                      0\n",
       "Latitude                  3540\n",
       "Longitude                 3540\n",
       "dtype: int64"
      ]
     },
     "execution_count": 23,
     "metadata": {},
     "output_type": "execute_result"
    }
   ],
   "source": [
    "# checking the number of null \n",
    "\n",
    "datacsra.isnull().sum()"
   ]
  },
  {
   "cell_type": "code",
   "execution_count": 24,
   "id": "3bd5ed6e",
   "metadata": {},
   "outputs": [],
   "source": [
    "# choosing the closed cases only to eliminate the null values\n",
    "\n",
    "datacsra= datacsra[datacsra['Status'] == 'Closed']"
   ]
  },
  {
   "cell_type": "code",
   "execution_count": 25,
   "id": "8d463754",
   "metadata": {},
   "outputs": [
    {
     "data": {
      "text/plain": [
       "Unique Key                   0\n",
       "Created Date                 0\n",
       "Closed Date                  0\n",
       "Agency                       0\n",
       "Complaint Type               0\n",
       "Descriptor                5903\n",
       "Location Type               65\n",
       "Incident Zip               507\n",
       "City                       506\n",
       "Status                       0\n",
       "Resolution Description       0\n",
       "Borough                      0\n",
       "Latitude                  1432\n",
       "Longitude                 1432\n",
       "dtype: int64"
      ]
     },
     "execution_count": 25,
     "metadata": {},
     "output_type": "execute_result"
    }
   ],
   "source": [
    "datacsra.isnull().sum()"
   ]
  },
  {
   "cell_type": "code",
   "execution_count": 27,
   "id": "b870290b",
   "metadata": {},
   "outputs": [],
   "source": [
    "# all the cases are of closed cases \n",
    "#drop the column Status as every value of its data are same\n",
    "datacsra = datacsra.drop(['Status'], axis = 1)"
   ]
  },
  {
   "cell_type": "code",
   "execution_count": 28,
   "id": "95025ec1",
   "metadata": {},
   "outputs": [
    {
     "data": {
      "text/plain": [
       "(298471, 13)"
      ]
     },
     "execution_count": 28,
     "metadata": {},
     "output_type": "execute_result"
    }
   ],
   "source": [
    "# shape of the dataset after droping\n",
    "datacsra.shape"
   ]
  },
  {
   "cell_type": "code",
   "execution_count": 29,
   "id": "2c6dc006",
   "metadata": {},
   "outputs": [],
   "source": [
    "# Descriptor, Latitude and Longitude has over 1000 plus null values\n",
    "\n",
    "datacsra = datacsra[(datacsra['Descriptor'].notnull()) & (datacsra['Latitude'].notnull()) &(datacsra['Longitude'].notnull())]"
   ]
  },
  {
   "cell_type": "code",
   "execution_count": 31,
   "id": "34890435",
   "metadata": {},
   "outputs": [
    {
     "data": {
      "text/plain": [
       "Unique Key                 0\n",
       "Created Date               0\n",
       "Closed Date                0\n",
       "Agency                     0\n",
       "Complaint Type             0\n",
       "Descriptor                 0\n",
       "Location Type             55\n",
       "Incident Zip              40\n",
       "City                      40\n",
       "Resolution Description     0\n",
       "Borough                    0\n",
       "Latitude                   0\n",
       "Longitude                  0\n",
       "dtype: int64"
      ]
     },
     "execution_count": 31,
     "metadata": {},
     "output_type": "execute_result"
    }
   ],
   "source": [
    "# check remaining null values in dataset\n",
    "datacsra.isnull().sum()"
   ]
  },
  {
   "cell_type": "code",
   "execution_count": 32,
   "id": "620b125d",
   "metadata": {},
   "outputs": [],
   "source": [
    "# few null values in our dataset. we will remove them\n",
    "\n",
    "datacsra = datacsra[(datacsra['Location Type'].notnull()) & (datacsra['Incident Zip'].notnull()) &(datacsra['City'].notnull())]"
   ]
  },
  {
   "cell_type": "code",
   "execution_count": 33,
   "id": "e2393e89",
   "metadata": {},
   "outputs": [
    {
     "data": {
      "text/plain": [
       "Unique Key                0\n",
       "Created Date              0\n",
       "Closed Date               0\n",
       "Agency                    0\n",
       "Complaint Type            0\n",
       "Descriptor                0\n",
       "Location Type             0\n",
       "Incident Zip              0\n",
       "City                      0\n",
       "Resolution Description    0\n",
       "Borough                   0\n",
       "Latitude                  0\n",
       "Longitude                 0\n",
       "dtype: int64"
      ]
     },
     "execution_count": 33,
     "metadata": {},
     "output_type": "execute_result"
    }
   ],
   "source": [
    "# check remaining null values in dataset\n",
    "datacsra.isnull().sum()"
   ]
  },
  {
   "cell_type": "code",
   "execution_count": 34,
   "id": "8c14ac95",
   "metadata": {},
   "outputs": [
    {
     "data": {
      "text/plain": [
       "(291107, 13)"
      ]
     },
     "execution_count": 34,
     "metadata": {},
     "output_type": "execute_result"
    }
   ],
   "source": [
    "datacsra.shape"
   ]
  },
  {
   "cell_type": "markdown",
   "id": "54b6edad",
   "metadata": {},
   "source": [
    "2. Read or convert the columns ‘Created Date’ and Closed Date’ to datetime datatype and create a new column ‘Request_Closing_Time’ as the time elapsed between request creation and request closing. \n",
    "(Hint: Explore the package/module datetime)"
   ]
  },
  {
   "cell_type": "code",
   "execution_count": 36,
   "id": "f77b78f0",
   "metadata": {},
   "outputs": [],
   "source": [
    "# converting 'Created Date' and 'Closed Date' to datetime datatype\n",
    "\n",
    "cols = ['Created Date', 'Closed Date']\n",
    "for col in cols:\n",
    "    datacsra[col] = pd.to_datetime(datacsra[col],infer_datetime_format=True)"
   ]
  },
  {
   "cell_type": "code",
   "execution_count": 37,
   "id": "02c7ee0e",
   "metadata": {},
   "outputs": [],
   "source": [
    "# creating a new column Request_Closing_Time lapsed between request creation and request closing\n",
    "\n",
    "datacsra['Request_Closing_Time'] = datacsra[cols[1]] - datacsra[cols[0]]"
   ]
  },
  {
   "cell_type": "code",
   "execution_count": 39,
   "id": "3547f990",
   "metadata": {},
   "outputs": [
    {
     "name": "stdout",
     "output_type": "stream",
     "text": [
      "<class 'pandas.core.frame.DataFrame'>\n",
      "Int64Index: 291107 entries, 0 to 300697\n",
      "Data columns (total 14 columns):\n",
      " #   Column                  Non-Null Count   Dtype          \n",
      "---  ------                  --------------   -----          \n",
      " 0   Unique Key              291107 non-null  int64          \n",
      " 1   Created Date            291107 non-null  datetime64[ns] \n",
      " 2   Closed Date             291107 non-null  datetime64[ns] \n",
      " 3   Agency                  291107 non-null  object         \n",
      " 4   Complaint Type          291107 non-null  object         \n",
      " 5   Descriptor              291107 non-null  object         \n",
      " 6   Location Type           291107 non-null  object         \n",
      " 7   Incident Zip            291107 non-null  float64        \n",
      " 8   City                    291107 non-null  object         \n",
      " 9   Resolution Description  291107 non-null  object         \n",
      " 10  Borough                 291107 non-null  object         \n",
      " 11  Latitude                291107 non-null  float64        \n",
      " 12  Longitude               291107 non-null  float64        \n",
      " 13  Request_Closing_Time    291107 non-null  timedelta64[ns]\n",
      "dtypes: datetime64[ns](2), float64(3), int64(1), object(7), timedelta64[ns](1)\n",
      "memory usage: 33.3+ MB\n"
     ]
    }
   ],
   "source": [
    "datacsra.info()"
   ]
  },
  {
   "cell_type": "markdown",
   "id": "d74111aa",
   "metadata": {},
   "source": [
    "3  Provide major insights/patterns that you can offer in a visual format (graphs or tables); at least 4 major conclusions that you can come up with after generic data mining"
   ]
  },
  {
   "cell_type": "code",
   "execution_count": 40,
   "id": "d750715e",
   "metadata": {},
   "outputs": [
    {
     "data": {
      "text/plain": [
       "(291107, 14)"
      ]
     },
     "execution_count": 40,
     "metadata": {},
     "output_type": "execute_result"
    }
   ],
   "source": [
    "# shape of the dataset\n",
    "datacsra.shape"
   ]
  },
  {
   "cell_type": "code",
   "execution_count": 41,
   "id": "c98ac6e5",
   "metadata": {},
   "outputs": [
    {
     "data": {
      "text/html": [
       "<div>\n",
       "<style scoped>\n",
       "    .dataframe tbody tr th:only-of-type {\n",
       "        vertical-align: middle;\n",
       "    }\n",
       "\n",
       "    .dataframe tbody tr th {\n",
       "        vertical-align: top;\n",
       "    }\n",
       "\n",
       "    .dataframe thead th {\n",
       "        text-align: right;\n",
       "    }\n",
       "</style>\n",
       "<table border=\"1\" class=\"dataframe\">\n",
       "  <thead>\n",
       "    <tr style=\"text-align: right;\">\n",
       "      <th></th>\n",
       "      <th>Unique Key</th>\n",
       "      <th>Incident Zip</th>\n",
       "      <th>Latitude</th>\n",
       "      <th>Longitude</th>\n",
       "      <th>Request_Closing_Time</th>\n",
       "    </tr>\n",
       "  </thead>\n",
       "  <tbody>\n",
       "    <tr>\n",
       "      <th>count</th>\n",
       "      <td>2.911070e+05</td>\n",
       "      <td>291107.000000</td>\n",
       "      <td>291107.000000</td>\n",
       "      <td>291107.000000</td>\n",
       "      <td>291107</td>\n",
       "    </tr>\n",
       "    <tr>\n",
       "      <th>mean</th>\n",
       "      <td>3.130158e+07</td>\n",
       "      <td>10857.977349</td>\n",
       "      <td>40.725681</td>\n",
       "      <td>-73.925035</td>\n",
       "      <td>0 days 04:18:32.132665995</td>\n",
       "    </tr>\n",
       "    <tr>\n",
       "      <th>std</th>\n",
       "      <td>5.753777e+05</td>\n",
       "      <td>580.280774</td>\n",
       "      <td>0.082411</td>\n",
       "      <td>0.078654</td>\n",
       "      <td>0 days 06:03:45.509089128</td>\n",
       "    </tr>\n",
       "    <tr>\n",
       "      <th>min</th>\n",
       "      <td>3.027948e+07</td>\n",
       "      <td>83.000000</td>\n",
       "      <td>40.499135</td>\n",
       "      <td>-74.254937</td>\n",
       "      <td>0 days 00:01:00</td>\n",
       "    </tr>\n",
       "    <tr>\n",
       "      <th>25%</th>\n",
       "      <td>3.079934e+07</td>\n",
       "      <td>10314.000000</td>\n",
       "      <td>40.668926</td>\n",
       "      <td>-73.970957</td>\n",
       "      <td>0 days 01:16:30</td>\n",
       "    </tr>\n",
       "    <tr>\n",
       "      <th>50%</th>\n",
       "      <td>3.130675e+07</td>\n",
       "      <td>11209.000000</td>\n",
       "      <td>40.717782</td>\n",
       "      <td>-73.930774</td>\n",
       "      <td>0 days 02:42:38</td>\n",
       "    </tr>\n",
       "    <tr>\n",
       "      <th>75%</th>\n",
       "      <td>3.179091e+07</td>\n",
       "      <td>11238.000000</td>\n",
       "      <td>40.782973</td>\n",
       "      <td>-73.875788</td>\n",
       "      <td>0 days 05:20:24</td>\n",
       "    </tr>\n",
       "    <tr>\n",
       "      <th>max</th>\n",
       "      <td>3.231065e+07</td>\n",
       "      <td>11697.000000</td>\n",
       "      <td>40.912869</td>\n",
       "      <td>-73.700760</td>\n",
       "      <td>24 days 16:52:22</td>\n",
       "    </tr>\n",
       "  </tbody>\n",
       "</table>\n",
       "</div>"
      ],
      "text/plain": [
       "         Unique Key   Incident Zip       Latitude      Longitude  \\\n",
       "count  2.911070e+05  291107.000000  291107.000000  291107.000000   \n",
       "mean   3.130158e+07   10857.977349      40.725681     -73.925035   \n",
       "std    5.753777e+05     580.280774       0.082411       0.078654   \n",
       "min    3.027948e+07      83.000000      40.499135     -74.254937   \n",
       "25%    3.079934e+07   10314.000000      40.668926     -73.970957   \n",
       "50%    3.130675e+07   11209.000000      40.717782     -73.930774   \n",
       "75%    3.179091e+07   11238.000000      40.782973     -73.875788   \n",
       "max    3.231065e+07   11697.000000      40.912869     -73.700760   \n",
       "\n",
       "            Request_Closing_Time  \n",
       "count                     291107  \n",
       "mean   0 days 04:18:32.132665995  \n",
       "std    0 days 06:03:45.509089128  \n",
       "min              0 days 00:01:00  \n",
       "25%              0 days 01:16:30  \n",
       "50%              0 days 02:42:38  \n",
       "75%              0 days 05:20:24  \n",
       "max             24 days 16:52:22  "
      ]
     },
     "execution_count": 41,
     "metadata": {},
     "output_type": "execute_result"
    }
   ],
   "source": [
    "# applying describe on the dataset\n",
    "datacsra.describe()"
   ]
  },
  {
   "cell_type": "code",
   "execution_count": 42,
   "id": "1378444b",
   "metadata": {},
   "outputs": [
    {
     "data": {
      "text/plain": [
       "Index(['Unique Key', 'Created Date', 'Closed Date', 'Agency', 'Complaint Type',\n",
       "       'Descriptor', 'Location Type', 'Incident Zip', 'City',\n",
       "       'Resolution Description', 'Borough', 'Latitude', 'Longitude',\n",
       "       'Request_Closing_Time'],\n",
       "      dtype='object')"
      ]
     },
     "execution_count": 42,
     "metadata": {},
     "output_type": "execute_result"
    }
   ],
   "source": [
    "# columns names\n",
    "datacsra.columns"
   ]
  },
  {
   "cell_type": "markdown",
   "id": "ccf4e216",
   "metadata": {},
   "source": [
    "# 4 major conclusions\n"
   ]
  },
  {
   "cell_type": "code",
   "execution_count": 43,
   "id": "b7e7af93",
   "metadata": {},
   "outputs": [
    {
     "data": {
      "text/plain": [
       "NYPD    291107\n",
       "Name: Agency, dtype: int64"
      ]
     },
     "execution_count": 43,
     "metadata": {},
     "output_type": "execute_result"
    }
   ],
   "source": [
    "# All the complaints are under the same agency\n",
    "\n",
    "datacsra['Agency'].value_counts()"
   ]
  },
  {
   "cell_type": "code",
   "execution_count": 44,
   "id": "e6b5209e",
   "metadata": {},
   "outputs": [
    {
     "data": {
      "text/plain": [
       "Blocked Driveway            76676\n",
       "Illegal Parking             74021\n",
       "Noise - Street/Sidewalk     47747\n",
       "Noise - Commercial          35144\n",
       "Derelict Vehicle            17506\n",
       "Noise - Vehicle             16868\n",
       "Animal Abuse                 7744\n",
       "Traffic                      4466\n",
       "Noise - Park                 3927\n",
       "Vending                      3773\n",
       "Drinking                     1270\n",
       "Noise - House of Worship      920\n",
       "Posting Advertisement         647\n",
       "Disorderly Youth              285\n",
       "Graffiti                      113\n",
       "Name: Complaint Type, dtype: int64"
      ]
     },
     "execution_count": 44,
     "metadata": {},
     "output_type": "execute_result"
    }
   ],
   "source": [
    "# complaint types\n",
    "\n",
    "datacsra['Complaint Type'].value_counts()"
   ]
  },
  {
   "cell_type": "code",
   "execution_count": 45,
   "id": "0f483426",
   "metadata": {},
   "outputs": [
    {
     "data": {
      "text/plain": [
       "<AxesSubplot:title={'center':'Complaint Types'}, ylabel='Count'>"
      ]
     },
     "execution_count": 45,
     "metadata": {},
     "output_type": "execute_result"
    },
    {
     "data": {
      "image/png": "[encoded data removed]",
      "text/plain": [
       "<Figure size 1080x576 with 1 Axes>"
      ]
     },
     "metadata": {
      "needs_background": "light"
     },
     "output_type": "display_data"
    }
   ],
   "source": [
    "# plotting the complaint types\n",
    "\n",
    "datacsra['Complaint Type'].value_counts().plot(kind = 'bar', figsize=(15, 8), title='Complaint Types', ylabel='Count', grid=True)"
   ]
  },
  {
   "cell_type": "markdown",
   "id": "6da77da9",
   "metadata": {},
   "source": [
    "Maximum Complaint type are Blocked Driveway\n",
    "followed by Illegal Parking, Noise-Street/Sidewalk, Noise-Commercial"
   ]
  },
  {
   "cell_type": "code",
   "execution_count": 46,
   "id": "7d4d3079",
   "metadata": {},
   "outputs": [
    {
     "data": {
      "text/plain": [
       "Loud Music/Party                  60444\n",
       "No Access                         56725\n",
       "Posted Parking Sign Violation     22103\n",
       "Loud Talking                      21254\n",
       "Partial Access                    19951\n",
       "With License Plate                17506\n",
       "Blocked Hydrant                   15837\n",
       "Commercial Overnight Parking      11908\n",
       "Car/Truck Music                   11114\n",
       "Blocked Sidewalk                  10930\n",
       "Double Parked Blocking Traffic     5558\n",
       "Double Parked Blocking Vehicle     4147\n",
       "Engine Idling                      4134\n",
       "Banging/Pounding                   4090\n",
       "Neglected                          3771\n",
       "Car/Truck Horn                     3477\n",
       "Congestion/Gridlock                2736\n",
       "In Prohibited Area                 2017\n",
       "Other (complaint details)          1961\n",
       "Unlicensed                         1756\n",
       "Overnight Commercial Storage       1746\n",
       "Unauthorized Bus Layover           1333\n",
       "Truck Route Violation              1010\n",
       "In Public                           923\n",
       "Tortured                            849\n",
       "Vehicle                             587\n",
       "Chained                             534\n",
       "Detached Trailer                    459\n",
       "No Shelter                          381\n",
       "Chronic Stoplight Violation         280\n",
       "Underage - Licensed Est             270\n",
       "Chronic Speeding                    266\n",
       "In Car                              248\n",
       "Playing in Unsuitable Place         245\n",
       "Drag Racing                         174\n",
       "Loud Television                      93\n",
       "Police Report Requested              90\n",
       "After Hours - Licensed Est           77\n",
       "Building                             60\n",
       "Nuisance/Truant                      40\n",
       "Police Report Not Requested          23\n",
       "Name: Descriptor, dtype: int64"
      ]
     },
     "execution_count": 46,
     "metadata": {},
     "output_type": "execute_result"
    }
   ],
   "source": [
    "# Descriptors\n",
    "\n",
    "datacsra['Descriptor'].value_counts()"
   ]
  },
  {
   "cell_type": "code",
   "execution_count": 48,
   "id": "def2e2b1",
   "metadata": {},
   "outputs": [
    {
     "data": {
      "text/plain": [
       "<AxesSubplot:title={'center':'Top 12 Descriptors'}>"
      ]
     },
     "execution_count": 48,
     "metadata": {},
     "output_type": "execute_result"
    },
    {
     "data": {
      "image/png": "[encoded data removed]",
      "text/plain": [
       "<Figure size 864x360 with 1 Axes>"
      ]
     },
     "metadata": {
      "needs_background": "light"
     },
     "output_type": "display_data"
    }
   ],
   "source": [
    "# plotting top 12 Descriptors\n",
    "\n",
    "datacsra['Descriptor'].value_counts().head(12).plot(kind='barh', grid=True, figsize=(12,5), title='Top 12 Descriptors')"
   ]
  },
  {
   "cell_type": "markdown",
   "id": "926807de",
   "metadata": {},
   "source": [
    "maximum complaints for descriptor are from Loud Music/Party \n",
    "followed by No Access, Posted Parking Sign Violation, Loud Taking,Partial Access."
   ]
  },
  {
   "cell_type": "code",
   "execution_count": 53,
   "id": "44bcd469",
   "metadata": {},
   "outputs": [
    {
     "data": {
      "text/plain": [
       "Street/Sidewalk               242765\n",
       "Store/Commercial               19425\n",
       "Club/Bar/Restaurant            17172\n",
       "Residential Building/House      5753\n",
       "Park/Playground                 4246\n",
       "House of Worship                 920\n",
       "Name: Location Type, dtype: int64"
      ]
     },
     "execution_count": 53,
     "metadata": {},
     "output_type": "execute_result"
    }
   ],
   "source": [
    "# Top 6 Location Type\n",
    "\n",
    "datacsra['Location Type'].value_counts().head(6)"
   ]
  },
  {
   "cell_type": "code",
   "execution_count": 57,
   "id": "51627fac",
   "metadata": {},
   "outputs": [
    {
     "data": {
      "text/plain": [
       "<AxesSubplot:title={'center':'Top 6 Location Type'}>"
      ]
     },
     "execution_count": 57,
     "metadata": {},
     "output_type": "execute_result"
    },
    {
     "data": {
      "image/png": "[encoded data removed]",
      "text/plain": [
       "<Figure size 576x360 with 1 Axes>"
      ]
     },
     "metadata": {
      "needs_background": "light"
     },
     "output_type": "display_data"
    }
   ],
   "source": [
    "# plotting Top 6 Location Type\n",
    "\n",
    "datacsra['Location Type'].value_counts().head(6).plot(kind='barh', grid=True, figsize=(8, 5), title='Top 6 Location Type')"
   ]
  },
  {
   "cell_type": "markdown",
   "id": "a6bca61a",
   "metadata": {},
   "source": [
    "Street/Sidewalk is a lot more than any other members of its category"
   ]
  },
  {
   "cell_type": "code",
   "execution_count": 59,
   "id": "632183dc",
   "metadata": {},
   "outputs": [
    {
     "data": {
      "text/plain": [
       "BROOKLYN               96858\n",
       "NEW YORK               61935\n",
       "BRONX                  40216\n",
       "STATEN ISLAND          12211\n",
       "JAMAICA                 7155\n",
       "ASTORIA                 6254\n",
       "FLUSHING                5916\n",
       "RIDGEWOOD               5124\n",
       "CORONA                  4265\n",
       "WOODSIDE                3493\n",
       "SOUTH RICHMOND HILL     2759\n",
       "OZONE PARK              2733\n",
       "Name: City, dtype: int64"
      ]
     },
     "execution_count": 59,
     "metadata": {},
     "output_type": "execute_result"
    }
   ],
   "source": [
    "# City\n",
    "\n",
    "datacsra['City'].value_counts().head(12)"
   ]
  },
  {
   "cell_type": "code",
   "execution_count": 60,
   "id": "8b24adf6",
   "metadata": {},
   "outputs": [
    {
     "data": {
      "text/plain": [
       "Text(0.5, 0, 'Complaint Counts')"
      ]
     },
     "execution_count": 60,
     "metadata": {},
     "output_type": "execute_result"
    },
    {
     "data": {
      "image/png": "[encoded data removed]",
      "text/plain": [
       "<Figure size 864x360 with 1 Axes>"
      ]
     },
     "metadata": {
      "needs_background": "light"
     },
     "output_type": "display_data"
    }
   ],
   "source": [
    "# plotting the cities\n",
    "\n",
    "datacsra['City'].value_counts().head(12).plot(kind='barh', grid=True, figsize=(12, 5), title='City Column', ylabel='Cities')\n",
    "plt.xlabel('Complaint Counts')"
   ]
  },
  {
   "cell_type": "markdown",
   "id": "f73ceb8b",
   "metadata": {},
   "source": [
    "maximum complaints are from BROOKLYN followed New York, Bronx, Staten Island in City wise"
   ]
  },
  {
   "cell_type": "code",
   "execution_count": 66,
   "id": "20fa6da3",
   "metadata": {},
   "outputs": [
    {
     "data": {
      "text/plain": [
       "Text(0.5, 0, 'Complaint Counts')"
      ]
     },
     "execution_count": 66,
     "metadata": {},
     "output_type": "execute_result"
    },
    {
     "data": {
      "image/png": "[encoded data removed]",
      "text/plain": [
       "<Figure size 720x360 with 1 Axes>"
      ]
     },
     "metadata": {
      "needs_background": "light"
     },
     "output_type": "display_data"
    }
   ],
   "source": [
    "# Borough\n",
    "datacsra['Borough'].value_counts().head(5).plot(kind='barh', grid=True, figsize=(10, 5), title='Borough_Column', ylabel='Borough')\n",
    "plt.xlabel('Complaint Counts')"
   ]
  },
  {
   "cell_type": "markdown",
   "id": "279cae21",
   "metadata": {},
   "source": [
    "Maximum complaints are from BROOKLYN followed Queens, Manhattan, Bronx and Staten Island in Borough wise"
   ]
  },
  {
   "cell_type": "markdown",
   "id": "2b6e39f9",
   "metadata": {},
   "source": [
    "Analyse Borough and Complaint Types\n",
    "\n",
    "Borough per Complaint Type"
   ]
  },
  {
   "cell_type": "code",
   "execution_count": 73,
   "id": "1244586a",
   "metadata": {},
   "outputs": [
    {
     "data": {
      "text/plain": [
       "Index(['Blocked Driveway', 'Illegal Parking', 'Noise - Street/Sidewalk',\n",
       "       'Noise - Commercial', 'Derelict Vehicle'],\n",
       "      dtype='object')"
      ]
     },
     "execution_count": 73,
     "metadata": {},
     "output_type": "execute_result"
    }
   ],
   "source": [
    "# Top Complaints\n",
    "\n",
    "top_5_complaints = datacsra['Complaint Type'].value_counts()[:5].keys()\n",
    "top_5_complaints"
   ]
  },
  {
   "cell_type": "code",
   "execution_count": 74,
   "id": "2f87ff74",
   "metadata": {},
   "outputs": [
    {
     "data": {
      "text/html": [
       "<div>\n",
       "<style scoped>\n",
       "    .dataframe tbody tr th:only-of-type {\n",
       "        vertical-align: middle;\n",
       "    }\n",
       "\n",
       "    .dataframe tbody tr th {\n",
       "        vertical-align: top;\n",
       "    }\n",
       "\n",
       "    .dataframe thead th {\n",
       "        text-align: right;\n",
       "    }\n",
       "</style>\n",
       "<table border=\"1\" class=\"dataframe\">\n",
       "  <thead>\n",
       "    <tr style=\"text-align: right;\">\n",
       "      <th>Complaint Type</th>\n",
       "      <th>Blocked Driveway</th>\n",
       "      <th>Illegal Parking</th>\n",
       "      <th>Noise - Street/Sidewalk</th>\n",
       "      <th>Noise - Commercial</th>\n",
       "      <th>Derelict Vehicle</th>\n",
       "    </tr>\n",
       "    <tr>\n",
       "      <th>Borough</th>\n",
       "      <th></th>\n",
       "      <th></th>\n",
       "      <th></th>\n",
       "      <th></th>\n",
       "      <th></th>\n",
       "    </tr>\n",
       "  </thead>\n",
       "  <tbody>\n",
       "    <tr>\n",
       "      <th>BRONX</th>\n",
       "      <td>12740</td>\n",
       "      <td>7829</td>\n",
       "      <td>8864</td>\n",
       "      <td>2431</td>\n",
       "      <td>1948</td>\n",
       "    </tr>\n",
       "    <tr>\n",
       "      <th>BROOKLYN</th>\n",
       "      <td>28119</td>\n",
       "      <td>27386</td>\n",
       "      <td>13315</td>\n",
       "      <td>11451</td>\n",
       "      <td>5164</td>\n",
       "    </tr>\n",
       "    <tr>\n",
       "      <th>MANHATTAN</th>\n",
       "      <td>2055</td>\n",
       "      <td>11981</td>\n",
       "      <td>20362</td>\n",
       "      <td>14528</td>\n",
       "      <td>530</td>\n",
       "    </tr>\n",
       "    <tr>\n",
       "      <th>QUEENS</th>\n",
       "      <td>31621</td>\n",
       "      <td>21944</td>\n",
       "      <td>4391</td>\n",
       "      <td>6057</td>\n",
       "      <td>8102</td>\n",
       "    </tr>\n",
       "    <tr>\n",
       "      <th>STATEN ISLAND</th>\n",
       "      <td>2141</td>\n",
       "      <td>4881</td>\n",
       "      <td>815</td>\n",
       "      <td>677</td>\n",
       "      <td>1762</td>\n",
       "    </tr>\n",
       "  </tbody>\n",
       "</table>\n",
       "</div>"
      ],
      "text/plain": [
       "Complaint Type  Blocked Driveway  Illegal Parking  Noise - Street/Sidewalk  \\\n",
       "Borough                                                                      \n",
       "BRONX                      12740             7829                     8864   \n",
       "BROOKLYN                   28119            27386                    13315   \n",
       "MANHATTAN                   2055            11981                    20362   \n",
       "QUEENS                     31621            21944                     4391   \n",
       "STATEN ISLAND               2141             4881                      815   \n",
       "\n",
       "Complaint Type  Noise - Commercial  Derelict Vehicle  \n",
       "Borough                                               \n",
       "BRONX                         2431              1948  \n",
       "BROOKLYN                     11451              5164  \n",
       "MANHATTAN                    14528               530  \n",
       "QUEENS                        6057              8102  \n",
       "STATEN ISLAND                  677              1762  "
      ]
     },
     "execution_count": 74,
     "metadata": {},
     "output_type": "execute_result"
    }
   ],
   "source": [
    "# Borough per Complaints\n",
    "\n",
    "borough_complaints = datacsra.groupby(['Borough', 'Complaint Type']).size().unstack()\n",
    "borough_complaints = borough_complaints[top_5_complaints]\n",
    "borough_complaints"
   ]
  },
  {
   "cell_type": "code",
   "execution_count": 75,
   "id": "b881b2cd",
   "metadata": {},
   "outputs": [
    {
     "data": {
      "image/png": "[encoded data removed]",
      "text/plain": [
       "<Figure size 864x576 with 6 Axes>"
      ]
     },
     "metadata": {
      "needs_background": "light"
     },
     "output_type": "display_data"
    }
   ],
   "source": [
    "# Plotting Borough per Complaint Type \n",
    "\n",
    "col_number = 2\n",
    "row_number = 3\n",
    "fig, axes = plt.subplots(row_number,col_number, figsize=(12,8))\n",
    "\n",
    "for i, (label,col) in enumerate(borough_complaints.iteritems()):\n",
    "    ax = axes[int(i/col_number), i%col_number]\n",
    "    col = col.sort_values(ascending=True)[:15]\n",
    "    col.plot(kind='barh', ax=ax, grid=True)\n",
    "    ax.set_title(label)\n",
    "    \n",
    "plt.tight_layout()"
   ]
  },
  {
   "cell_type": "markdown",
   "id": "796d5927",
   "metadata": {},
   "source": [
    "- Blocked Driveway is maximum in QUEENS\n",
    "- Illegal Parking is maximum in BROOKLYN\n",
    "- Noise - Street/Sidewalk is maximum in MANHATTAN\n",
    "- Noise - Commercial is maximum in MANHATTAN\n",
    "- Derelict Vehicle is maximum in QUEENS"
   ]
  },
  {
   "cell_type": "markdown",
   "id": "626d9e50",
   "metadata": {},
   "source": [
    "#Complaints per Borough"
   ]
  },
  {
   "cell_type": "code",
   "execution_count": 76,
   "id": "6d218f71",
   "metadata": {},
   "outputs": [
    {
     "data": {
      "text/html": [
       "<div>\n",
       "<style scoped>\n",
       "    .dataframe tbody tr th:only-of-type {\n",
       "        vertical-align: middle;\n",
       "    }\n",
       "\n",
       "    .dataframe tbody tr th {\n",
       "        vertical-align: top;\n",
       "    }\n",
       "\n",
       "    .dataframe thead th {\n",
       "        text-align: right;\n",
       "    }\n",
       "</style>\n",
       "<table border=\"1\" class=\"dataframe\">\n",
       "  <thead>\n",
       "    <tr style=\"text-align: right;\">\n",
       "      <th>Borough</th>\n",
       "      <th>BROOKLYN</th>\n",
       "      <th>QUEENS</th>\n",
       "      <th>MANHATTAN</th>\n",
       "      <th>BRONX</th>\n",
       "      <th>STATEN ISLAND</th>\n",
       "    </tr>\n",
       "    <tr>\n",
       "      <th>Complaint Type</th>\n",
       "      <th></th>\n",
       "      <th></th>\n",
       "      <th></th>\n",
       "      <th></th>\n",
       "      <th></th>\n",
       "    </tr>\n",
       "  </thead>\n",
       "  <tbody>\n",
       "    <tr>\n",
       "      <th>Animal Abuse</th>\n",
       "      <td>2390</td>\n",
       "      <td>1874</td>\n",
       "      <td>1511</td>\n",
       "      <td>1412</td>\n",
       "      <td>557</td>\n",
       "    </tr>\n",
       "    <tr>\n",
       "      <th>Blocked Driveway</th>\n",
       "      <td>28119</td>\n",
       "      <td>31621</td>\n",
       "      <td>2055</td>\n",
       "      <td>12740</td>\n",
       "      <td>2141</td>\n",
       "    </tr>\n",
       "    <tr>\n",
       "      <th>Derelict Vehicle</th>\n",
       "      <td>5164</td>\n",
       "      <td>8102</td>\n",
       "      <td>530</td>\n",
       "      <td>1948</td>\n",
       "      <td>1762</td>\n",
       "    </tr>\n",
       "    <tr>\n",
       "      <th>Disorderly Youth</th>\n",
       "      <td>72</td>\n",
       "      <td>59</td>\n",
       "      <td>68</td>\n",
       "      <td>63</td>\n",
       "      <td>23</td>\n",
       "    </tr>\n",
       "    <tr>\n",
       "      <th>Drinking</th>\n",
       "      <td>257</td>\n",
       "      <td>357</td>\n",
       "      <td>294</td>\n",
       "      <td>187</td>\n",
       "      <td>175</td>\n",
       "    </tr>\n",
       "    <tr>\n",
       "      <th>Graffiti</th>\n",
       "      <td>43</td>\n",
       "      <td>37</td>\n",
       "      <td>22</td>\n",
       "      <td>9</td>\n",
       "      <td>2</td>\n",
       "    </tr>\n",
       "    <tr>\n",
       "      <th>Illegal Parking</th>\n",
       "      <td>27386</td>\n",
       "      <td>21944</td>\n",
       "      <td>11981</td>\n",
       "      <td>7829</td>\n",
       "      <td>4881</td>\n",
       "    </tr>\n",
       "    <tr>\n",
       "      <th>Noise - Commercial</th>\n",
       "      <td>11451</td>\n",
       "      <td>6057</td>\n",
       "      <td>14528</td>\n",
       "      <td>2431</td>\n",
       "      <td>677</td>\n",
       "    </tr>\n",
       "    <tr>\n",
       "      <th>Noise - House of Worship</th>\n",
       "      <td>338</td>\n",
       "      <td>297</td>\n",
       "      <td>189</td>\n",
       "      <td>79</td>\n",
       "      <td>17</td>\n",
       "    </tr>\n",
       "    <tr>\n",
       "      <th>Noise - Park</th>\n",
       "      <td>1537</td>\n",
       "      <td>634</td>\n",
       "      <td>1167</td>\n",
       "      <td>522</td>\n",
       "      <td>67</td>\n",
       "    </tr>\n",
       "    <tr>\n",
       "      <th>Noise - Street/Sidewalk</th>\n",
       "      <td>13315</td>\n",
       "      <td>4391</td>\n",
       "      <td>20362</td>\n",
       "      <td>8864</td>\n",
       "      <td>815</td>\n",
       "    </tr>\n",
       "    <tr>\n",
       "      <th>Noise - Vehicle</th>\n",
       "      <td>5145</td>\n",
       "      <td>2608</td>\n",
       "      <td>5374</td>\n",
       "      <td>3385</td>\n",
       "      <td>356</td>\n",
       "    </tr>\n",
       "    <tr>\n",
       "      <th>Posting Advertisement</th>\n",
       "      <td>45</td>\n",
       "      <td>30</td>\n",
       "      <td>41</td>\n",
       "      <td>16</td>\n",
       "      <td>515</td>\n",
       "    </tr>\n",
       "    <tr>\n",
       "      <th>Traffic</th>\n",
       "      <td>1082</td>\n",
       "      <td>1302</td>\n",
       "      <td>1531</td>\n",
       "      <td>355</td>\n",
       "      <td>196</td>\n",
       "    </tr>\n",
       "    <tr>\n",
       "      <th>Vending</th>\n",
       "      <td>514</td>\n",
       "      <td>477</td>\n",
       "      <td>2380</td>\n",
       "      <td>377</td>\n",
       "      <td>25</td>\n",
       "    </tr>\n",
       "  </tbody>\n",
       "</table>\n",
       "</div>"
      ],
      "text/plain": [
       "Borough                   BROOKLYN  QUEENS  MANHATTAN  BRONX  STATEN ISLAND\n",
       "Complaint Type                                                             \n",
       "Animal Abuse                  2390    1874       1511   1412            557\n",
       "Blocked Driveway             28119   31621       2055  12740           2141\n",
       "Derelict Vehicle              5164    8102        530   1948           1762\n",
       "Disorderly Youth                72      59         68     63             23\n",
       "Drinking                       257     357        294    187            175\n",
       "Graffiti                        43      37         22      9              2\n",
       "Illegal Parking              27386   21944      11981   7829           4881\n",
       "Noise - Commercial           11451    6057      14528   2431            677\n",
       "Noise - House of Worship       338     297        189     79             17\n",
       "Noise - Park                  1537     634       1167    522             67\n",
       "Noise - Street/Sidewalk      13315    4391      20362   8864            815\n",
       "Noise - Vehicle               5145    2608       5374   3385            356\n",
       "Posting Advertisement           45      30         41     16            515\n",
       "Traffic                       1082    1302       1531    355            196\n",
       "Vending                        514     477       2380    377             25"
      ]
     },
     "execution_count": 76,
     "metadata": {},
     "output_type": "execute_result"
    }
   ],
   "source": [
    "# similarly for Complaints per Borough\n",
    "top_borough = datacsra['Borough'].value_counts().keys()\n",
    "\n",
    "complaint_per_borough = datacsra.groupby(['Complaint Type', 'Borough']).size().unstack()\n",
    "complaint_per_borough = complaint_per_borough[top_borough]\n",
    "complaint_per_borough"
   ]
  },
  {
   "cell_type": "code",
   "execution_count": 82,
   "id": "fd237115",
   "metadata": {},
   "outputs": [
    {
     "data": {
      "image/png": "[encoded data removed]",
      "text/plain": [
       "<Figure size 1008x720 with 6 Axes>"
      ]
     },
     "metadata": {
      "needs_background": "light"
     },
     "output_type": "display_data"
    }
   ],
   "source": [
    "# Plotting Complaints per Borough\n",
    "col_number = 2\n",
    "row_number = 3\n",
    "fig, axes = plt.subplots(row_number,col_number, figsize=(14,10))\n",
    "\n",
    "for i, (label,col) in enumerate(complaint_per_borough.iteritems()):\n",
    "    ax = axes[int(i/col_number), i%col_number]\n",
    "    col = col.sort_values(ascending=True)[:15]\n",
    "    col.plot(kind='barh', ax=ax, grid=True)\n",
    "    ax.set_title(label)\n",
    "    \n",
    "plt.tight_layout()"
   ]
  },
  {
   "cell_type": "markdown",
   "id": "6c62943a",
   "metadata": {},
   "source": [
    "- BROOKLYN, QUEENS and BRONX has most complaints of Blocked Driveway.\n",
    "- MANHATTAN has most complaints of Noise - Street/Sidewalk.\n",
    "- STATEN ISLAND has most complaints of Illegal Parking"
   ]
  },
  {
   "cell_type": "markdown",
   "id": "45bc317c",
   "metadata": {},
   "source": [
    "# 4. Order the complaint types based on the average ‘Request_Closing_Time’, grouping them for different locations."
   ]
  },
  {
   "cell_type": "code",
   "execution_count": 84,
   "id": "de0969b2",
   "metadata": {},
   "outputs": [
    {
     "data": {
      "text/html": [
       "<div>\n",
       "<style scoped>\n",
       "    .dataframe tbody tr th:only-of-type {\n",
       "        vertical-align: middle;\n",
       "    }\n",
       "\n",
       "    .dataframe tbody tr th {\n",
       "        vertical-align: top;\n",
       "    }\n",
       "\n",
       "    .dataframe thead th {\n",
       "        text-align: right;\n",
       "    }\n",
       "</style>\n",
       "<table border=\"1\" class=\"dataframe\">\n",
       "  <thead>\n",
       "    <tr style=\"text-align: right;\">\n",
       "      <th></th>\n",
       "      <th>Request_Closing_Time</th>\n",
       "      <th>Request_Closing_Time_in_Hours</th>\n",
       "    </tr>\n",
       "  </thead>\n",
       "  <tbody>\n",
       "    <tr>\n",
       "      <th>0</th>\n",
       "      <td>0 days 00:55:15</td>\n",
       "      <td>1.0</td>\n",
       "    </tr>\n",
       "    <tr>\n",
       "      <th>1</th>\n",
       "      <td>0 days 01:26:16</td>\n",
       "      <td>2.0</td>\n",
       "    </tr>\n",
       "    <tr>\n",
       "      <th>2</th>\n",
       "      <td>0 days 04:51:31</td>\n",
       "      <td>5.0</td>\n",
       "    </tr>\n",
       "    <tr>\n",
       "      <th>3</th>\n",
       "      <td>0 days 07:45:14</td>\n",
       "      <td>8.0</td>\n",
       "    </tr>\n",
       "    <tr>\n",
       "      <th>4</th>\n",
       "      <td>0 days 03:27:02</td>\n",
       "      <td>4.0</td>\n",
       "    </tr>\n",
       "    <tr>\n",
       "      <th>5</th>\n",
       "      <td>0 days 01:53:30</td>\n",
       "      <td>2.0</td>\n",
       "    </tr>\n",
       "    <tr>\n",
       "      <th>6</th>\n",
       "      <td>0 days 01:57:28</td>\n",
       "      <td>2.0</td>\n",
       "    </tr>\n",
       "    <tr>\n",
       "      <th>7</th>\n",
       "      <td>0 days 01:47:55</td>\n",
       "      <td>2.0</td>\n",
       "    </tr>\n",
       "    <tr>\n",
       "      <th>8</th>\n",
       "      <td>0 days 08:33:02</td>\n",
       "      <td>9.0</td>\n",
       "    </tr>\n",
       "    <tr>\n",
       "      <th>9</th>\n",
       "      <td>0 days 01:23:02</td>\n",
       "      <td>2.0</td>\n",
       "    </tr>\n",
       "  </tbody>\n",
       "</table>\n",
       "</div>"
      ],
      "text/plain": [
       "  Request_Closing_Time  Request_Closing_Time_in_Hours\n",
       "0      0 days 00:55:15                            1.0\n",
       "1      0 days 01:26:16                            2.0\n",
       "2      0 days 04:51:31                            5.0\n",
       "3      0 days 07:45:14                            8.0\n",
       "4      0 days 03:27:02                            4.0\n",
       "5      0 days 01:53:30                            2.0\n",
       "6      0 days 01:57:28                            2.0\n",
       "7      0 days 01:47:55                            2.0\n",
       "8      0 days 08:33:02                            9.0\n",
       "9      0 days 01:23:02                            2.0"
      ]
     },
     "execution_count": 84,
     "metadata": {},
     "output_type": "execute_result"
    }
   ],
   "source": [
    "# Creating a column Request_Closing_Time_in_Hours for time in Hours\n",
    "# and we will say the said complaint has been closed under x hours\n",
    "\n",
    "datacsra['Request_Closing_Time_in_Hours'] = datacsra['Request_Closing_Time'].astype('timedelta64[h]')+1\n",
    "\n",
    "# viewing the Two columns side by side for first 20 entries\n",
    "\n",
    "datacsra[['Request_Closing_Time', 'Request_Closing_Time_in_Hours']].head(10)"
   ]
  },
  {
   "cell_type": "code",
   "execution_count": 86,
   "id": "8ff17c11",
   "metadata": {},
   "outputs": [
    {
     "data": {
      "text/plain": [
       "City     Complaint Type          \n",
       "ARVERNE  Animal Abuse                2.631579\n",
       "         Blocked Driveway            3.028571\n",
       "         Derelict Vehicle            3.407407\n",
       "         Disorderly Youth            4.000000\n",
       "         Drinking                    1.000000\n",
       "         Graffiti                    2.000000\n",
       "         Illegal Parking             2.827586\n",
       "         Noise - Commercial          3.000000\n",
       "         Noise - House of Worship    2.090909\n",
       "         Noise - Park                1.500000\n",
       "Name: Request_Closing_Time_in_Hours, dtype: float64"
      ]
     },
     "execution_count": 86,
     "metadata": {},
     "output_type": "execute_result"
    }
   ],
   "source": [
    "#  Ordering the complaint types based on the average ‘Request_Closing_Time’ in Hours, grouping them for different locations.\n",
    "\n",
    "data_avg_time_in_hrs = datacsra.groupby(['City', 'Complaint Type'])['Request_Closing_Time_in_Hours'].mean()\n",
    "data_avg_time_in_hrs.head(10)"
   ]
  },
  {
   "cell_type": "code",
   "execution_count": 89,
   "id": "4c92f1a0",
   "metadata": {},
   "outputs": [
    {
     "data": {
      "text/html": [
       "<div>\n",
       "<style scoped>\n",
       "    .dataframe tbody tr th:only-of-type {\n",
       "        vertical-align: middle;\n",
       "    }\n",
       "\n",
       "    .dataframe tbody tr th {\n",
       "        vertical-align: top;\n",
       "    }\n",
       "\n",
       "    .dataframe thead th {\n",
       "        text-align: right;\n",
       "    }\n",
       "</style>\n",
       "<table border=\"1\" class=\"dataframe\">\n",
       "  <thead>\n",
       "    <tr style=\"text-align: right;\">\n",
       "      <th></th>\n",
       "      <th>Request_Closing_Time</th>\n",
       "      <th>Request_Closing_Time_in_Hours</th>\n",
       "      <th>Request_Closing_Time_in_Seconds</th>\n",
       "    </tr>\n",
       "  </thead>\n",
       "  <tbody>\n",
       "    <tr>\n",
       "      <th>0</th>\n",
       "      <td>0 days 00:55:15</td>\n",
       "      <td>1.0</td>\n",
       "      <td>3315.0</td>\n",
       "    </tr>\n",
       "    <tr>\n",
       "      <th>1</th>\n",
       "      <td>0 days 01:26:16</td>\n",
       "      <td>2.0</td>\n",
       "      <td>5176.0</td>\n",
       "    </tr>\n",
       "    <tr>\n",
       "      <th>2</th>\n",
       "      <td>0 days 04:51:31</td>\n",
       "      <td>5.0</td>\n",
       "      <td>17491.0</td>\n",
       "    </tr>\n",
       "    <tr>\n",
       "      <th>3</th>\n",
       "      <td>0 days 07:45:14</td>\n",
       "      <td>8.0</td>\n",
       "      <td>27914.0</td>\n",
       "    </tr>\n",
       "    <tr>\n",
       "      <th>4</th>\n",
       "      <td>0 days 03:27:02</td>\n",
       "      <td>4.0</td>\n",
       "      <td>12422.0</td>\n",
       "    </tr>\n",
       "    <tr>\n",
       "      <th>5</th>\n",
       "      <td>0 days 01:53:30</td>\n",
       "      <td>2.0</td>\n",
       "      <td>6810.0</td>\n",
       "    </tr>\n",
       "  </tbody>\n",
       "</table>\n",
       "</div>"
      ],
      "text/plain": [
       "  Request_Closing_Time  Request_Closing_Time_in_Hours  \\\n",
       "0      0 days 00:55:15                            1.0   \n",
       "1      0 days 01:26:16                            2.0   \n",
       "2      0 days 04:51:31                            5.0   \n",
       "3      0 days 07:45:14                            8.0   \n",
       "4      0 days 03:27:02                            4.0   \n",
       "5      0 days 01:53:30                            2.0   \n",
       "\n",
       "   Request_Closing_Time_in_Seconds  \n",
       "0                           3315.0  \n",
       "1                           5176.0  \n",
       "2                          17491.0  \n",
       "3                          27914.0  \n",
       "4                          12422.0  \n",
       "5                           6810.0  "
      ]
     },
     "execution_count": 89,
     "metadata": {},
     "output_type": "execute_result"
    }
   ],
   "source": [
    "datacsra['Request_Closing_Time_in_Seconds'] = datacsra['Request_Closing_Time'].astype('timedelta64[s]')\n",
    "\n",
    "\n",
    "datacsra[['Request_Closing_Time', 'Request_Closing_Time_in_Hours','Request_Closing_Time_in_Seconds']].head(6)"
   ]
  },
  {
   "cell_type": "code",
   "execution_count": 92,
   "id": "5ff6a8fb",
   "metadata": {},
   "outputs": [
    {
     "data": {
      "text/plain": [
       "City     Complaint Type    \n",
       "ARVERNE  Animal Abuse           7753.052632\n",
       "         Blocked Driveway       9093.485714\n",
       "         Derelict Vehicle      10685.592593\n",
       "         Disorderly Youth      12928.500000\n",
       "         Drinking                859.000000\n",
       "         Graffiti               5520.000000\n",
       "         Illegal Parking        8338.913793\n",
       "         Noise - Commercial     8234.000000\n",
       "Name: Request_Closing_Time_in_Seconds, dtype: float64"
      ]
     },
     "execution_count": 92,
     "metadata": {},
     "output_type": "execute_result"
    }
   ],
   "source": [
    "#  Order the complaint types based on the average ‘Request_Closing_Time’ in seconds, \n",
    "#  grouping them for different locations.\n",
    "data_avg_in_seconds = datacsra.groupby(['City', 'Complaint Type']).Request_Closing_Time_in_Seconds.mean()\n",
    "data_avg_in_seconds.head(8)"
   ]
  },
  {
   "cell_type": "markdown",
   "id": "9611d3f5",
   "metadata": {},
   "source": [
    "# 5.Perform a statistical test for the following:\n",
    "Please note: For the below statements you need to state the Null and Alternate and then provide a statistical test to accept or reject the Null Hypothesis along with the corresponding ‘p-value’.\n",
    "\n",
    "Whether the average response time across complaint types is similar or not (overall)\n",
    "Are the type of complaint or service requested and location related?"
   ]
  },
  {
   "cell_type": "code",
   "execution_count": 93,
   "id": "d441dbaa",
   "metadata": {},
   "outputs": [
    {
     "data": {
      "text/plain": [
       "Index(['Unique Key', 'Created Date', 'Closed Date', 'Agency', 'Complaint Type',\n",
       "       'Descriptor', 'Location Type', 'Incident Zip', 'City',\n",
       "       'Resolution Description', 'Borough', 'Latitude', 'Longitude',\n",
       "       'Request_Closing_Time', 'Request_Closing_Time_in_Hours',\n",
       "       'Request_Closing_Time_in_Seconds'],\n",
       "      dtype='object')"
      ]
     },
     "execution_count": 93,
     "metadata": {},
     "output_type": "execute_result"
    }
   ],
   "source": [
    "datacsra.columns"
   ]
  },
  {
   "cell_type": "code",
   "execution_count": 94,
   "id": "81c2d49e",
   "metadata": {},
   "outputs": [
    {
     "data": {
      "text/plain": [
       "Complaint Type\n",
       "Posting Advertisement        7113.582689\n",
       "Noise - Commercial          11294.078335\n",
       "Noise - House of Worship    11519.116304\n",
       "Noise - Park                12249.610644\n",
       "Noise - Street/Sidewalk     12392.210610\n",
       "Traffic                     12426.186968\n",
       "Disorderly Youth            12847.733333\n",
       "Noise - Vehicle             12953.606711\n",
       "Drinking                    13885.939370\n",
       "Vending                     14442.301617\n",
       "Illegal Parking             16140.427217\n",
       "Blocked Driveway            17056.511751\n",
       "Animal Abuse                18786.728951\n",
       "Graffiti                    25744.504425\n",
       "Derelict Vehicle            26450.507426\n",
       "Name: Request_Closing_Time_in_Seconds, dtype: float64"
      ]
     },
     "execution_count": 94,
     "metadata": {},
     "output_type": "execute_result"
    }
   ],
   "source": [
    "#  the average response time in seconds for different complaint types\n",
    "avg_response_time = datacsra.groupby(['Complaint Type']).Request_Closing_Time_in_Seconds.mean().sort_values(ascending=True)\n",
    "avg_response_time"
   ]
  },
  {
   "cell_type": "markdown",
   "id": "dd9fcdc1",
   "metadata": {},
   "source": [
    "Testing for our Hypothesis"
   ]
  },
  {
   "cell_type": "code",
   "execution_count": 96,
   "id": "aba52ee2",
   "metadata": {},
   "outputs": [],
   "source": [
    "# to calculate the p-value log of time taken to close the complaint per complaint is \n",
    "data = {}\n",
    "for complaint in datacsra['Complaint Type'].unique():\n",
    "    data[complaint] = np.log(datacsra[datacsra['Complaint Type']==complaint]['Request_Closing_Time_in_Seconds'])"
   ]
  },
  {
   "cell_type": "code",
   "execution_count": 103,
   "id": "3930ea54",
   "metadata": {},
   "outputs": [
    {
     "data": {
      "text/plain": [
       "dict_keys(['Noise - Street/Sidewalk', 'Blocked Driveway', 'Illegal Parking', 'Derelict Vehicle', 'Noise - Commercial', 'Noise - House of Worship', 'Posting Advertisement', 'Noise - Vehicle', 'Animal Abuse', 'Vending', 'Traffic', 'Drinking', 'Noise - Park', 'Graffiti', 'Disorderly Youth'])"
      ]
     },
     "execution_count": 103,
     "metadata": {},
     "output_type": "execute_result"
    }
   ],
   "source": [
    "data.keys()"
   ]
  },
  {
   "cell_type": "code",
   "execution_count": 104,
   "id": "9dddcee3",
   "metadata": {},
   "outputs": [
    {
     "name": "stdout",
     "output_type": "stream",
     "text": [
      "1.1029853481161118\n",
      "0.9759835331364468\n",
      "1.07759350645833\n",
      "1.2579717580716774\n",
      "1.0889851891911977\n",
      "1.1764769203426566\n",
      "1.2223658746794284\n",
      "1.0766368282265082\n",
      "1.0439938309706467\n",
      "1.1124255292109804\n",
      "1.183766057955533\n",
      "1.0462752311468753\n",
      "1.119443436237754\n",
      "1.0644915295126962\n",
      "1.0383245818152775\n"
     ]
    }
   ],
   "source": [
    "for complaint in data.keys():\n",
    "    print(data[complaint].std())"
   ]
  },
  {
   "cell_type": "code",
   "execution_count": 105,
   "id": "2c70bae6",
   "metadata": {},
   "outputs": [
    {
     "name": "stdout",
     "output_type": "stream",
     "text": [
      "Statistics= 2452.471, p = 0.000\n",
      "We have Different distributions (reject H0)\n"
     ]
    }
   ],
   "source": [
    "# importing f_oneway from scipy.stats library\n",
    "from scipy.stats import f_oneway\n",
    "# taking top 5 complaints\n",
    "stat, p = f_oneway(data['Blocked Driveway'], data['Illegal Parking'], data['Noise - Street/Sidewalk'],\n",
    "  \n",
    "                   data['Derelict Vehicle'], data['Noise - Commercial'])\n",
    "print('Statistics= %.3f, p = %.3f' % (stat, p))\n",
    "# interpret\n",
    "alpha = 0.05\n",
    "if p > alpha:\n",
    "    print('Same distributions (fail to reject H0)')\n",
    "else:\n",
    "    print('We have Different distributions (reject H0)')"
   ]
  },
  {
   "cell_type": "code",
   "execution_count": null,
   "id": "c92c9023",
   "metadata": {},
   "outputs": [],
   "source": []
  }
 ],
 "metadata": {
  "kernelspec": {
   "display_name": "Python 3",
   "language": "python",
   "name": "python3"
  },
  "language_info": {
   "codemirror_mode": {
    "name": "ipython",
    "version": 3
   },
   "file_extension": ".py",
   "mimetype": "text/x-python",
   "name": "python",
   "nbconvert_exporter": "python",
   "pygments_lexer": "ipython3",
   "version": "3.8.8"
  }
 },
 "nbformat": 4,
 "nbformat_minor": 5
}
